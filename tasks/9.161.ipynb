{
 "cells": [
  {
   "cell_type": "code",
   "execution_count": 1,
   "id": "95d8a70d",
   "metadata": {},
   "outputs": [],
   "source": [
    "import numpy as np\n",
    "import matplotlib.pyplot as plt\n",
    "import scipy.stats as st"
   ]
  },
  {
   "cell_type": "markdown",
   "id": "9e30a254",
   "metadata": {},
   "source": [
    "#### 9.161"
   ]
  },
  {
   "cell_type": "code",
   "execution_count": 2,
   "id": "548c33fa",
   "metadata": {},
   "outputs": [],
   "source": [
    "n = 25\n",
    "num_of_samples = 10\n",
    "\n",
    "mu = 5\n",
    "sigma = 1\n",
    "\n",
    "samples = np.random.normal(mu, sigma, size=(num_of_samples, n))"
   ]
  },
  {
   "cell_type": "code",
   "execution_count": 3,
   "id": "c1e704ec",
   "metadata": {
    "scrolled": true
   },
   "outputs": [],
   "source": [
    "intervals = list()\n",
    "for sample in samples:\n",
    "    intervals.append(st.t.interval(0.1, np.mean(sample), np.std(sample)))"
   ]
  },
  {
   "cell_type": "code",
   "execution_count": 4,
   "id": "96b2a682",
   "metadata": {},
   "outputs": [],
   "source": [
    "result = list()\n",
    "for interval in intervals:\n",
    "    result.append([mu*interval[0], mu*interval[1]])"
   ]
  },
  {
   "cell_type": "code",
   "execution_count": 5,
   "id": "80dd030c",
   "metadata": {},
   "outputs": [
    {
     "data": {
      "text/plain": [
       "[[3.3692556300508034, 4.690329174210949],\n",
       " [3.4974933641701176, 4.817257794496651],\n",
       " [4.61538077388076, 5.938576558203012],\n",
       " [3.531520469312595, 4.855313867810814],\n",
       " [3.550907461692743, 4.873788045112613],\n",
       " [5.37835023125942, 6.694234186272076],\n",
       " [3.056358776086723, 4.37359135226802],\n",
       " [4.209334086181023, 5.531979040504985],\n",
       " [3.116375091397953, 4.436155722812765],\n",
       " [4.056103134019569, 5.373744684446233]]"
      ]
     },
     "execution_count": 5,
     "metadata": {},
     "output_type": "execute_result"
    }
   ],
   "source": [
    "result"
   ]
  }
 ],
 "metadata": {
  "kernelspec": {
   "display_name": "Python 3 (ipykernel)",
   "language": "python",
   "name": "python3"
  },
  "language_info": {
   "codemirror_mode": {
    "name": "ipython",
    "version": 3
   },
   "file_extension": ".py",
   "mimetype": "text/x-python",
   "name": "python",
   "nbconvert_exporter": "python",
   "pygments_lexer": "ipython3",
   "version": "3.9.12"
  }
 },
 "nbformat": 4,
 "nbformat_minor": 5
}
