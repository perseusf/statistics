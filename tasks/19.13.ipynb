{
 "cells": [
  {
   "cell_type": "code",
   "execution_count": 6,
   "id": "f2155126",
   "metadata": {},
   "outputs": [],
   "source": [
    "import numpy as np\n",
    "import matplotlib.pyplot as plt\n",
    "import scipy.stats as st"
   ]
  },
  {
   "cell_type": "markdown",
   "id": "bea67f49",
   "metadata": {},
   "source": [
    "#### 9.13 \n",
    "Методом моделирования получить выборки объёмом n = 10 из генеральной совокупности с показательным законом распределения $Ex(\\lambda)$ с $\\lambda_1 =1$, $\\lambda_2 = 2$, $\\lambda_3 = 3$.\n",
    "\n",
    "Решение:"
   ]
  },
  {
   "cell_type": "code",
   "execution_count": 7,
   "id": "c2d03e5f",
   "metadata": {},
   "outputs": [],
   "source": [
    "n = 10\n",
    "Y = np.zeros(n, dtype=float)\n",
    "Y[0] = 0.34"
   ]
  },
  {
   "cell_type": "code",
   "execution_count": 8,
   "id": "c62d58e7",
   "metadata": {},
   "outputs": [],
   "source": [
    "for i in range(1, n):\n",
    "    Y[i] = (Y[i-1]*17)%1"
   ]
  },
  {
   "cell_type": "code",
   "execution_count": 9,
   "id": "24c57ef9",
   "metadata": {},
   "outputs": [
    {
     "name": "stdout",
     "output_type": "stream",
     "text": [
      "Выборка из генеральной совокупности с равномерным распределением R(0, 1) = [0.34       0.78       0.26       0.42       0.14       0.38\n",
      " 0.46       0.82000001 0.94000012 0.9800021 ]\n"
     ]
    }
   ],
   "source": [
    "print('Выборка из генеральной совокупности с равномерным распределением R(0, 1) =', Y)"
   ]
  },
  {
   "cell_type": "code",
   "execution_count": 10,
   "id": "4adbf0e5",
   "metadata": {},
   "outputs": [
    {
     "name": "stdout",
     "output_type": "stream",
     "text": [
      "lambda = 1\n",
      "X = [0.41551544 1.51412773 0.30110509 0.54472718 0.15082289 0.4780358\n",
      " 0.61618614 1.71479847 2.81341277 3.91212797]\n",
      "lambda = 2\n",
      "X = [0.20775772 0.75706387 0.15055255 0.27236359 0.07541144 0.2390179\n",
      " 0.30809307 0.85739923 1.40670639 1.95606399]\n",
      "lambda = 3\n",
      "X = [0.13850515 0.50470924 0.10036836 0.18157573 0.0502743  0.15934527\n",
      " 0.20539538 0.57159949 0.93780426 1.30404266]\n"
     ]
    }
   ],
   "source": [
    "for lambda1 in range(1,4):\n",
    "    print('lambda =', lambda1)\n",
    "    X = (-1)*np.log(1-Y) / lambda1\n",
    "    print('X =', X)"
   ]
  },
  {
   "cell_type": "code",
   "execution_count": null,
   "id": "998e856a",
   "metadata": {},
   "outputs": [],
   "source": []
  },
  {
   "cell_type": "code",
   "execution_count": null,
   "id": "902f7603",
   "metadata": {},
   "outputs": [],
   "source": []
  }
 ],
 "metadata": {
  "kernelspec": {
   "display_name": "Python 3 (ipykernel)",
   "language": "python",
   "name": "python3"
  },
  "language_info": {
   "codemirror_mode": {
    "name": "ipython",
    "version": 3
   },
   "file_extension": ".py",
   "mimetype": "text/x-python",
   "name": "python",
   "nbconvert_exporter": "python",
   "pygments_lexer": "ipython3",
   "version": "3.9.12"
  }
 },
 "nbformat": 4,
 "nbformat_minor": 5
}
