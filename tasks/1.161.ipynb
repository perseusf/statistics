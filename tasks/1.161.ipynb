{
 "cells": [
  {
   "cell_type": "code",
   "execution_count": 3,
   "id": "82ba61a2",
   "metadata": {},
   "outputs": [],
   "source": [
    "import numpy as np\n",
    "import matplotlib.pyplot as plt\n",
    "import scipy.stats as st"
   ]
  },
  {
   "cell_type": "code",
   "execution_count": 4,
   "id": "36c49e32",
   "metadata": {},
   "outputs": [],
   "source": [
    "n = 25\n",
    "num_of_samples = 10\n",
    "\n",
    "mu = 5\n",
    "sigma = 1\n",
    "\n",
    "samples = np.random.normal(mu, sigma, size=(num_of_samples, n))\n"
   ]
  },
  {
   "cell_type": "code",
   "execution_count": 5,
   "id": "c8b4baf1",
   "metadata": {},
   "outputs": [],
   "source": [
    "intervals = list()\n",
    "for sample in samples:\n",
    "    intervals.append(st.t.interval(0.1, np.mean(sample), np.std(sample)))"
   ]
  },
  {
   "cell_type": "code",
   "execution_count": 6,
   "id": "fc33d039",
   "metadata": {},
   "outputs": [],
   "source": [
    "result = list()\n",
    "for interval in intervals:\n",
    "    result.append([mu*interval[0], mu*interval[1]])"
   ]
  },
  {
   "cell_type": "code",
   "execution_count": 7,
   "id": "dcb47a86",
   "metadata": {},
   "outputs": [
    {
     "data": {
      "text/plain": [
       "[[4.489924527448636, 5.808713851257491],\n",
       " [5.952212333849984, 7.273806717042369],\n",
       " [4.318558705366491, 5.636404409904179],\n",
       " [4.852897739569854, 6.175920344520932],\n",
       " [3.3625722194808465, 4.6860043637973545],\n",
       " [4.757247474088039, 6.0790001863430465],\n",
       " [3.21871320007073, 4.540740218892047],\n",
       " [4.523602857664107, 5.842814073807194],\n",
       " [4.624288149529577, 5.943293185396201],\n",
       " [3.6757337171585474, 5.000109385218236]]"
      ]
     },
     "execution_count": 7,
     "metadata": {},
     "output_type": "execute_result"
    }
   ],
   "source": [
    "result"
   ]
  },
  {
   "cell_type": "code",
   "execution_count": null,
   "id": "e56f4a6c",
   "metadata": {},
   "outputs": [],
   "source": []
  }
 ],
 "metadata": {
  "kernelspec": {
   "display_name": "Python 3 (ipykernel)",
   "language": "python",
   "name": "python3"
  },
  "language_info": {
   "codemirror_mode": {
    "name": "ipython",
    "version": 3
   },
   "file_extension": ".py",
   "mimetype": "text/x-python",
   "name": "python",
   "nbconvert_exporter": "python",
   "pygments_lexer": "ipython3",
   "version": "3.9.12"
  }
 },
 "nbformat": 4,
 "nbformat_minor": 5
}
