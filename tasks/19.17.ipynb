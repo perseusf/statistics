{
 "cells": [
  {
   "cell_type": "code",
   "execution_count": 6,
   "id": "cb01d16e",
   "metadata": {},
   "outputs": [],
   "source": [
    "import numpy as np\n",
    "import matplotlib.pyplot as plt\n",
    "import scipy.stats as st"
   ]
  },
  {
   "cell_type": "markdown",
   "id": "c439623e",
   "metadata": {},
   "source": [
    "#### 19.17\n",
    "Время безотказной работы (в месяцах) телевизионной трубки имеет нормальное распределение N(24, 3). Магазин продал 15 телевизоров. Методом моделирования получить выборку времени безотказной работы трубок у проданных телевизоров. Построить гистограмму и оценить наиболее вероятное число трубок, потребующих замены в течение 10 лет."
   ]
  },
  {
   "cell_type": "code",
   "execution_count": 7,
   "id": "2d6bec7f",
   "metadata": {},
   "outputs": [],
   "source": [
    "mu = 24\n",
    "sigma = 3"
   ]
  },
  {
   "cell_type": "markdown",
   "id": "41df0744",
   "metadata": {},
   "source": [
    "Решение:\n",
    "Нормальное распределение $ N(\\mu, \\sigma)$ имеет вид:\n",
    "$$ f(x) = \\frac{1}{\\sigma\\sqrt{2\\pi}}\\exp^{-\\frac{1}{2}(\\frac{x-\\mu}{\\sigma})^2} $$"
   ]
  },
  {
   "cell_type": "code",
   "execution_count": 8,
   "id": "163296a9",
   "metadata": {},
   "outputs": [
    {
     "data": {
      "image/png": "[encoded data removed]",
      "text/plain": [
       "<Figure size 432x288 with 1 Axes>"
      ]
     },
     "metadata": {
      "needs_background": "light"
     },
     "output_type": "display_data"
    }
   ],
   "source": [
    "X = np.random.normal(mu, sigma, 15)\n",
    "plt.hist(X, bins=15)\n",
    "plt.show()"
   ]
  }
 ],
 "metadata": {
  "kernelspec": {
   "display_name": "Python 3 (ipykernel)",
   "language": "python",
   "name": "python3"
  },
  "language_info": {
   "codemirror_mode": {
    "name": "ipython",
    "version": 3
   },
   "file_extension": ".py",
   "mimetype": "text/x-python",
   "name": "python",
   "nbconvert_exporter": "python",
   "pygments_lexer": "ipython3",
   "version": "3.9.12"
  }
 },
 "nbformat": 4,
 "nbformat_minor": 5
}
