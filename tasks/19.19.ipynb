{
 "cells": [
  {
   "cell_type": "code",
   "execution_count": 3,
   "id": "d9b48645",
   "metadata": {},
   "outputs": [],
   "source": [
    "import numpy as np\n",
    "import matplotlib.pyplot as plt\n",
    "import scipy.stats as st"
   ]
  },
  {
   "cell_type": "markdown",
   "id": "37039cb4",
   "metadata": {},
   "source": [
    "#### 19.19\n",
    "Пусть X и Y -- независимые случайные случайные величины, распределённые соответственно по законам N(0, 1) и N(0, 3). Используя соотношения (4) и (5), получить выборки объёма n = 50 для X и Y."
   ]
  },
  {
   "cell_type": "markdown",
   "id": "dcd44036",
   "metadata": {},
   "source": [
    "Решение:\n",
    "$$ u_j = \\sqrt{-2\\ln{y_{j-1}}}\\cos{2\\pi y_j} $$\n",
    "$$ v_j = \\sqrt{-2\\ln{y_{j-1}}}\\sin{2\\pi y_j} $$"
   ]
  },
  {
   "cell_type": "code",
   "execution_count": 4,
   "id": "e099dd66",
   "metadata": {},
   "outputs": [],
   "source": [
    "n = 50\n",
    "y = np.zeros(n, dtype=float)\n",
    "y[0] = 0.34\n",
    "\n",
    "X = np.zeros(n, dtype=float)\n",
    "Y = np.zeros(n, dtype=float)\n",
    "\n",
    "for i in range(1, n):\n",
    "    y[i] = (y[i-1]*17)%1"
   ]
  },
  {
   "cell_type": "code",
   "execution_count": 5,
   "id": "6acfe66b",
   "metadata": {},
   "outputs": [],
   "source": [
    "for i in range(1, len(y)):\n",
    "    X[i] = np.sqrt(-2*np.log(y[i-1]))*np.cos(2*np.pi*y[i])\n",
    "    Y[i] = np.sqrt(-2*np.log(y[i-1]))*np.sin(2*np.pi*y[i])*np.sqrt(3)"
   ]
  },
  {
   "cell_type": "code",
   "execution_count": 6,
   "id": "00134c0b",
   "metadata": {},
   "outputs": [
    {
     "name": "stdout",
     "output_type": "stream",
     "text": [
      "[ 0.          0.27524136 -0.04426276 -1.43835733  0.83961132 -1.44553316\n",
      " -1.34739911  0.53061357  0.58576074  0.34900863 -0.1076633   0.16739294\n",
      "  0.00342618  0.02538825  0.40395059 -0.14978294  1.47995772  0.30122697\n",
      "  0.34328783  0.95528529 -0.30815289  0.04824339  0.39633949 -0.02956466\n",
      " -1.23430649 -1.33022762  0.05746813  1.3045157   1.28790654 -0.54935213\n",
      "  1.10047416 -2.42184464 -1.04360487  0.61937014 -1.1092335   0.7772188\n",
      " -2.09496279 -0.32590814  1.42843645  1.85687123  0.23692715  0.68868803\n",
      "  1.79908015  0.49992369  3.33027141 -0.24364355 -0.78278518 -0.16747873\n",
      " -1.11324488 -0.3597383 ]\n",
      "[ 0.         -2.49911675  1.21856086  1.36960815  1.75788563  2.35116542\n",
      "  0.59920867 -1.95307973 -0.40169472 -0.07635809 -0.29398849  1.55200098\n",
      " -3.01134654 -1.31211667 -1.09273063  0.98703319 -0.91525152  0.25406583\n",
      "  3.92718523 -2.48663579  0.85831138 -2.54787294 -1.10147165  1.02604858\n",
      "  1.88672072 -0.64792828  1.90971447  1.84790825 -2.88384397 -0.18990815\n",
      "  0.40104741 -1.69425261 -0.44707145  1.60060916 -2.73043362  0.86618188\n",
      " -1.10227481  1.81710649  1.06954843  2.46207331 -3.66232153  0.40348319\n",
      " -2.83534376  0.01382862  1.60554619 -4.32117286  0.11438298  2.05856048\n",
      " -2.02177906 -1.54780612]\n"
     ]
    }
   ],
   "source": [
    "print(X)\n",
    "print(Y)"
   ]
  },
  {
   "cell_type": "code",
   "execution_count": null,
   "id": "398b0a4b",
   "metadata": {},
   "outputs": [],
   "source": []
  }
 ],
 "metadata": {
  "kernelspec": {
   "display_name": "Python 3 (ipykernel)",
   "language": "python",
   "name": "python3"
  },
  "language_info": {
   "codemirror_mode": {
    "name": "ipython",
    "version": 3
   },
   "file_extension": ".py",
   "mimetype": "text/x-python",
   "name": "python",
   "nbconvert_exporter": "python",
   "pygments_lexer": "ipython3",
   "version": "3.9.12"
  }
 },
 "nbformat": 4,
 "nbformat_minor": 5
}
