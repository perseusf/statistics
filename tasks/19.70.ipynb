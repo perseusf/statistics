{
 "cells": [
  {
   "cell_type": "code",
   "execution_count": 2,
   "id": "6fb72088",
   "metadata": {},
   "outputs": [],
   "source": [
    "import numpy as np\n",
    "import matplotlib.pyplot as plt\n",
    "import scipy.stats as st"
   ]
  },
  {
   "cell_type": "markdown",
   "id": "95b0a8ad",
   "metadata": {},
   "source": [
    "#### 19.70\n",
    "Вычислить коэффициенты корреляции, определить и нанести на диаграмму рассеивания прямые регрессии Y на X и X на Y по данным выборкам.\n",
    "x = 8 10 5 8 9 | y = 1 3 1 2 3  "
   ]
  },
  {
   "cell_type": "code",
   "execution_count": 3,
   "id": "497e3602",
   "metadata": {},
   "outputs": [],
   "source": [
    "x = list([8, 10, 5, 8, 9])\n",
    "y = list([1, 3, 1, 2, 3])"
   ]
  },
  {
   "cell_type": "code",
   "execution_count": 4,
   "id": "6b43601b",
   "metadata": {},
   "outputs": [
    {
     "name": "stdout",
     "output_type": "stream",
     "text": [
      "0.8017837257372732\n"
     ]
    }
   ],
   "source": [
    "corr = np.corrcoef(x,y)[0][1]\n",
    "print(corr)\n",
    "\n",
    "coef = np.polyfit(x,y,1)\n",
    "poly1d_fn = np.poly1d(coef) "
   ]
  }
 ],
 "metadata": {
  "kernelspec": {
   "display_name": "Python 3 (ipykernel)",
   "language": "python",
   "name": "python3"
  },
  "language_info": {
   "codemirror_mode": {
    "name": "ipython",
    "version": 3
   },
   "file_extension": ".py",
   "mimetype": "text/x-python",
   "name": "python",
   "nbconvert_exporter": "python",
   "pygments_lexer": "ipython3",
   "version": "3.9.12"
  }
 },
 "nbformat": 4,
 "nbformat_minor": 5
}
