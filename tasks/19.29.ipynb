{
 "cells": [
  {
   "cell_type": "code",
   "execution_count": 2,
   "id": "e96b22e8",
   "metadata": {},
   "outputs": [],
   "source": [
    "import numpy as np\n",
    "import matplotlib.pyplot as plt\n",
    "import scipy.stats as st"
   ]
  },
  {
   "cell_type": "markdown",
   "id": "9182f7e3",
   "metadata": {},
   "source": [
    "#### 19.29\n",
    "Доказать, что для выборочной дисперсии справедлива формула:\n",
    "$$ D_{X}^{*} = \\alpha_{2}^{*} - \\bar{x}^2 $$"
   ]
  },
  {
   "cell_type": "markdown",
   "id": "006b9e1f",
   "metadata": {},
   "source": [
    "Решение:\n",
    "\n",
    "Из задачи №19.27 узнаём, что $ \\alpha_{2}^{*} = \\frac{\\sum{x_j^2}}{n} $, $ \\bar{x}^2 = (\\frac{\\sum{x_j}}{n})^2 $ \\\n",
    "Тогда, $D_{X}^{*} = \\frac{\\sum{(x_j - \\bar{x})^2}}{n}$ = $ \\frac{\\sum{x_i^2}}{n} - 2\\frac{\\sum{x_i \\bar{x}}}{n} + \\frac{\\sum{\\bar{x}^2}}{n} $ = \n",
    "$ \\alpha_{2}^{*} - 2\\bar{x}^2 + \\bar{x}^2 $ = $ \\alpha_{2}^{*} - \\bar{x}^2 $ \\\n",
    "        ч.т.д."
   ]
  }
 ],
 "metadata": {
  "kernelspec": {
   "display_name": "Python 3 (ipykernel)",
   "language": "python",
   "name": "python3"
  },
  "language_info": {
   "codemirror_mode": {
    "name": "ipython",
    "version": 3
   },
   "file_extension": ".py",
   "mimetype": "text/x-python",
   "name": "python",
   "nbconvert_exporter": "python",
   "pygments_lexer": "ipython3",
   "version": "3.9.12"
  }
 },
 "nbformat": 4,
 "nbformat_minor": 5
}
