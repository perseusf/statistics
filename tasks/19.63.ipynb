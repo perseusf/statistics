{
 "cells": [
  {
   "cell_type": "code",
   "execution_count": 6,
   "id": "a0b4d1ac",
   "metadata": {},
   "outputs": [],
   "source": [
    "import numpy as np\n",
    "import matplotlib.pyplot as plt\n",
    "import scipy.stats as st"
   ]
  },
  {
   "cell_type": "markdown",
   "id": "e463e54a",
   "metadata": {},
   "source": [
    "#### 19.63\n",
    "ВыЧислить коэффициенты корреляции и построить диаграммы рассеивания для следующих выборок:\n",
    "x = 8 10 5 8 9 |\n",
    "y = 1 3 1 2 3"
   ]
  },
  {
   "cell_type": "code",
   "execution_count": 7,
   "id": "4096cf62",
   "metadata": {},
   "outputs": [],
   "source": [
    "x = list([8, 10, 5, 8, 9])\n",
    "y = list([1, 3, 1, 2, 3])"
   ]
  },
  {
   "cell_type": "code",
   "execution_count": 8,
   "id": "8a57afd6",
   "metadata": {},
   "outputs": [
    {
     "name": "stdout",
     "output_type": "stream",
     "text": [
      "0.8017837257372732\n"
     ]
    }
   ],
   "source": [
    "corr = np.corrcoef(x,y)[0][1]\n",
    "print(corr)"
   ]
  },
  {
   "cell_type": "code",
   "execution_count": 9,
   "id": "943b0b9c",
   "metadata": {},
   "outputs": [
    {
     "data": {
      "image/png": "[encoded data removed]",
      "text/plain": [
       "<Figure size 432x288 with 1 Axes>"
      ]
     },
     "metadata": {
      "needs_background": "light"
     },
     "output_type": "display_data"
    }
   ],
   "source": [
    "plt.scatter(x, y)\n",
    "plt.grid()\n",
    "plt.show()"
   ]
  }
 ],
 "metadata": {
  "kernelspec": {
   "display_name": "Python 3 (ipykernel)",
   "language": "python",
   "name": "python3"
  },
  "language_info": {
   "codemirror_mode": {
    "name": "ipython",
    "version": 3
   },
   "file_extension": ".py",
   "mimetype": "text/x-python",
   "name": "python",
   "nbconvert_exporter": "python",
   "pygments_lexer": "ipython3",
   "version": "3.9.12"
  }
 },
 "nbformat": 4,
 "nbformat_minor": 5
}
